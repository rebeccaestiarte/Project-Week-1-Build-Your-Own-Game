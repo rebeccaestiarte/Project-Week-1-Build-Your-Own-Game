{
 "cells": [
  {
   "cell_type": "markdown",
   "metadata": {},
   "source": [
    "# THE HANGMEN STAR WARS EDITION "
   ]
  },
  {
   "cell_type": "markdown",
   "metadata": {},
   "source": [
    "## Introduction & Rules ##"
   ]
  },
  {
   "cell_type": "code",
   "execution_count": 1,
   "metadata": {},
   "outputs": [
    {
     "name": "stdout",
     "output_type": "stream",
     "text": [
      "Insert your name: Becca\n"
     ]
    }
   ],
   "source": [
    "your_name = input(\"Insert your name: \")"
   ]
  },
  {
   "cell_type": "markdown",
   "metadata": {},
   "source": [
    "_The game greeds the user and introduce the rules and instructions:_"
   ]
  },
  {
   "cell_type": "code",
   "execution_count": 2,
   "metadata": {},
   "outputs": [
    {
     "name": "stdout",
     "output_type": "stream",
     "text": [
      "Hello Jedi Becca . Welcome to the Hangman, Star Wars Edition!\n",
      "You will be shown a set of blank letters that match a quote from the Star Wars original saga.\n",
      "You can guess the phrase by entering one letter at the time.\n",
      "If you pick right, you will have inflicted a strike to the empire's death star.\n",
      "The chosen letter will then be revealed from the blanks. Every time you pick a letter that is not in the quote, the empire will hit the rebel fleet.\n"
     ]
    }
   ],
   "source": [
    "print(\"Hello Jedi\", your_name.capitalize(),\".\" ,\"Welcome to the Hangman, Star Wars Edition!\")\n",
    "print(\"You will be shown a set of blank letters that match a quote from the Star Wars original saga.\")\n",
    "print(\"You can guess the phrase by entering one letter at the time.\")\n",
    "print(\"If you pick right, you will have inflicted a strike to the empire's death star.\")\n",
    "print(\"The chosen letter will then be revealed from the blanks. Every time you pick a letter that is not in the quote, the empire will hit the rebel fleet.\")"
   ]
  },
  {
   "cell_type": "markdown",
   "metadata": {},
   "source": [
    "## Level Selection ##"
   ]
  },
  {
   "cell_type": "markdown",
   "metadata": {},
   "source": [
    "_The user is asked to insert a level. Depending on the input, he will have different attempts (easy = 20 attempts; medium = 15 attempts; hard = 10 attempts_"
   ]
  },
  {
   "cell_type": "code",
   "execution_count": 8,
   "metadata": {
    "scrolled": true
   },
   "outputs": [
    {
     "name": "stdout",
     "output_type": "stream",
     "text": [
      "First, choose the level. Enter E for easy, M for medium and H for hard: t\n",
      "Please insert E for easy, M for medium and H for hard.\n",
      "First, choose the level. Enter E for easy, M for medium and H for hard: e\n"
     ]
    }
   ],
   "source": [
    "level_game = input(\"First, choose the level. Enter E for easy, M for medium and H for hard: \")\n",
    "\n",
    "levels =[\"h\", \"m\", \"e\"]\n",
    "if level_game.lower() == \"e\":\n",
    "    attempts = 20 \n",
    "    print (\"You have 20 attempts\")\n",
    "    print(\"Time to start! May the force be with you...\")\n",
    "elif level_game.lower() == \"m\":\n",
    "    attempts = 15\n",
    "    print (\"You have 15 attempts\")\n",
    "    print(\"Time to start! May the force be with you...\")\n",
    "elif level_game.lower() == \"h\":\n",
    "    attempts = 10\n",
    "    print (\"You have 10 attempts\")\n",
    "    print(\"Time to start! May the force be with you...\")\n",
    "else:\n",
    "    while level_game.lower() not in levels:\n",
    "        print (\"Please insert E for easy, M for medium and H for hard.\")\n",
    "        level_game = input(\"First, choose the level. Enter E for easy, M for medium and H for hard: \")"
   ]
  },
  {
   "cell_type": "markdown",
   "metadata": {},
   "source": [
    "_The program takes a quote randomly from the list \"star_wars_quotes\" and breaks the string into a list to be able to iterate the elements in it._"
   ]
  },
  {
   "cell_type": "markdown",
   "metadata": {},
   "source": [
    "## Puzzle ##"
   ]
  },
  {
   "cell_type": "markdown",
   "metadata": {},
   "source": [
    "_The program creates a sequence of blanks correspending to the letters in the quote._"
   ]
  },
  {
   "cell_type": "code",
   "execution_count": 4,
   "metadata": {},
   "outputs": [],
   "source": [
    "star_wars_quotes = [\"May the force be with you\",\"I am your father\", \"Do or do not. There is no try\", \"There is no such thing as luck\", \"Your focus determines your reality\"]"
   ]
  },
  {
   "cell_type": "code",
   "execution_count": 5,
   "metadata": {},
   "outputs": [],
   "source": [
    "import random\n",
    "\n",
    "solution = random.choice(star_wars_quotes).lower()\n",
    "breaked_solution = list(solution)"
   ]
  },
  {
   "cell_type": "code",
   "execution_count": 6,
   "metadata": {},
   "outputs": [
    {
     "name": "stdout",
     "output_type": "stream",
     "text": [
      "_ _ _   _ _ _   _ _ _ _ _   _ _   w _ _ _   _ _ _\n"
     ]
    }
   ],
   "source": [
    "possible_inputs = \"abcdefghijklmnopqrstuvywxz\"\n",
    "puzzle = []\n",
    "for i in breaked_solution: \n",
    "    if i in possible_inputs:\n",
    "        puzzle.append(\"_\")\n",
    "    else:\n",
    "        puzzle.append(i)\n",
    "puzzle_in_string = ' '.join(puzzle)\n",
    "print(puzzle_in_string)"
   ]
  },
  {
   "cell_type": "markdown",
   "metadata": {},
   "source": [
    "## The Game ##"
   ]
  },
  {
   "cell_type": "markdown",
   "metadata": {},
   "source": [
    "_The program is creating a dictionary to associate a letter (value) in the quote with a key (index). It follows a function that retreves the index given a letter._\n",
    "\n",
    "_The Program will now run the game: as long as the user has makes less attempts than allowed without getting to the solution, the program will keep asking him to guess a letter. When he gets to the solution, the user wins. Otherwise, the user lose._"
   ]
  },
  {
   "cell_type": "code",
   "execution_count": 7,
   "metadata": {},
   "outputs": [
    {
     "ename": "NameError",
     "evalue": "name 'attempts' is not defined",
     "output_type": "error",
     "traceback": [
      "\u001b[0;31m---------------------------------------------------------------------------\u001b[0m",
      "\u001b[0;31mNameError\u001b[0m                                 Traceback (most recent call last)",
      "\u001b[0;32m<ipython-input-7-471b304014c7>\u001b[0m in \u001b[0;36m<module>\u001b[0;34m\u001b[0m\n\u001b[1;32m     12\u001b[0m     \u001b[0;32mreturn\u001b[0m \u001b[0mpos\u001b[0m\u001b[0;34m\u001b[0m\u001b[0;34m\u001b[0m\u001b[0m\n\u001b[1;32m     13\u001b[0m \u001b[0;34m\u001b[0m\u001b[0m\n\u001b[0;32m---> 14\u001b[0;31m \u001b[0mattempts_counter\u001b[0m \u001b[0;34m=\u001b[0m \u001b[0mattempts\u001b[0m\u001b[0;34m\u001b[0m\u001b[0;34m\u001b[0m\u001b[0m\n\u001b[0m\u001b[1;32m     15\u001b[0m \u001b[0;32mwhile\u001b[0m \u001b[0mattempts_counter\u001b[0m \u001b[0;34m>\u001b[0m \u001b[0;36m0\u001b[0m \u001b[0;32mand\u001b[0m \u001b[0mpuzzle_in_string\u001b[0m \u001b[0;34m!=\u001b[0m \u001b[0msolution\u001b[0m\u001b[0;34m:\u001b[0m\u001b[0;34m\u001b[0m\u001b[0;34m\u001b[0m\u001b[0m\n\u001b[1;32m     16\u001b[0m     \u001b[0mattempts_counter\u001b[0m \u001b[0;34m=\u001b[0m \u001b[0mattempts_counter\u001b[0m \u001b[0;34m-\u001b[0m \u001b[0;36m1\u001b[0m\u001b[0;34m\u001b[0m\u001b[0;34m\u001b[0m\u001b[0m\n",
      "\u001b[0;31mNameError\u001b[0m: name 'attempts' is not defined"
     ]
    }
   ],
   "source": [
    "test_dict = {}\n",
    "a = 0\n",
    "for i in breaked_solution:\n",
    "    a=a+1\n",
    "    test_dict[a-1] = i\n",
    "\n",
    "def get_index(letter_guess):\n",
    "    pos =[]\n",
    "    for key, value in test_dict.items(): \n",
    "         if letter_guess == value: \n",
    "                pos.append(key)\n",
    "    return pos\n",
    "\n",
    "attempts_counter = attempts \n",
    "while attempts_counter > 0 and puzzle_in_string != solution:\n",
    "    attempts_counter = attempts_counter - 1\n",
    "    letter_guess = input(\"Guess a letter: \").lower()\n",
    "    if len(letter_guess) == 1 and letter_guess in possible_inputs:\n",
    "        index_of_letter = get_index((letter_guess))\n",
    "        for i in index_of_letter:\n",
    "            puzzle[i] = letter_guess\n",
    "\n",
    "        puzzle_in_string = ''.join(puzzle) \n",
    "        print(puzzle_in_string)  \n",
    "    else: \n",
    "        print(\"You have entered more than one letter and/or a character not allowed\")\n",
    "    \n",
    "    if puzzle_in_string == solution:\n",
    "        print(\"Congratulation Jedi\", your_name, \"you destroyed the Death Star. The Empire has fallen!\") #IMPROVE \n",
    "    \n",
    "if attempts_counter  == 0 and puzzle_in_string != solution:     \n",
    "    print (\"Your strikes are over Jedi\", your_name ,\". The Empire arises!\") \n",
    "    print (\"The solution was:\", solution)"
   ]
  },
  {
   "cell_type": "code",
   "execution_count": null,
   "metadata": {},
   "outputs": [],
   "source": []
  }
 ],
 "metadata": {
  "kernelspec": {
   "display_name": "Python 3",
   "language": "python",
   "name": "python3"
  },
  "language_info": {
   "codemirror_mode": {
    "name": "ipython",
    "version": 3
   },
   "file_extension": ".py",
   "mimetype": "text/x-python",
   "name": "python",
   "nbconvert_exporter": "python",
   "pygments_lexer": "ipython3",
   "version": "3.7.6"
  }
 },
 "nbformat": 4,
 "nbformat_minor": 2
}
